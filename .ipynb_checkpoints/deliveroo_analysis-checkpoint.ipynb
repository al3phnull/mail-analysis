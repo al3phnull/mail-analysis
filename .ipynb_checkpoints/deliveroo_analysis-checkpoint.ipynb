{
 "cells": [
  {
   "cell_type": "code",
   "execution_count": 1,
   "metadata": {
    "collapsed": false
   },
   "outputs": [],
   "source": [
    "import numpy as np\n",
    "import pandas as pd\n",
    "import matplotlib\n",
    "import matplotlib.pyplot as plt\n",
    "import datetime\n",
    "import mailbox\n",
    "import seaborn as sns"
   ]
  },
  {
   "cell_type": "code",
   "execution_count": 2,
   "metadata": {
    "collapsed": false
   },
   "outputs": [
    {
     "name": "stdout",
     "output_type": "stream",
     "text": [
      "Populating the interactive namespace from numpy and matplotlib\n"
     ]
    }
   ],
   "source": [
    "%pylab inline"
   ]
  },
  {
   "cell_type": "code",
   "execution_count": 3,
   "metadata": {
    "collapsed": false
   },
   "outputs": [],
   "source": [
    "dmail = mailbox.mbox(\"Deliveroo.mbox\")"
   ]
  },
  {
   "cell_type": "code",
   "execution_count": 4,
   "metadata": {
    "collapsed": true
   },
   "outputs": [],
   "source": [
    "merged_list = []\n",
    "mails = []\n",
    "restaurant = []\n",
    "date = []\n",
    "rtime = []\n",
    "dtime = []\n",
    "tip = []"
   ]
  },
  {
   "cell_type": "code",
   "execution_count": 5,
   "metadata": {
    "collapsed": false
   },
   "outputs": [],
   "source": [
    "def clean_list(dmail):\n",
    "    for message in dmail:\n",
    "        if message[\"subject\"].split()[0] == 'Order':\n",
    "            mails.append(message)\n",
    "        else:\n",
    "            continue \n",
    "    return mails"
   ]
  },
  {
   "cell_type": "code",
   "execution_count": 6,
   "metadata": {
    "collapsed": true
   },
   "outputs": [],
   "source": [
    "def clean_dtime(dtime):\n",
    "    lex = dtime.split()\n",
    "    lex = [lex[0].replace(\"m\", \"\"), lex[1].replace(\"s\", \"\")]\n",
    "    return int(lex[0])*60 + int(lex[1])"
   ]
  },
  {
   "cell_type": "code",
   "execution_count": 7,
   "metadata": {
    "collapsed": false
   },
   "outputs": [],
   "source": [
    "def parse_mails(mails):\n",
    "    for message in mails:\n",
    "        body = str(message.get_payload())\n",
    "        restaurant.append(body.partition(\"Restaurant:\")[2].partition(\"\\r\\nRest\")[0].strip())\n",
    "        date.append(str.split(body.partition(\"at:\")[2].partition(\"\\r\\nDel\")[0])[0])\n",
    "        rtime.append(str.split(body.partition(\"at:\")[2].partition(\"\\r\\nDel\")[0])[1])\n",
    "        bad_dtime = body.partition(\"Time:\")[2].partition(\"\\r\\n\\r\\n\")[0].strip()\n",
    "        good_dtime = clean_dtime(bad_dtime)\n",
    "        dtime.append(good_dtime)\n",
    "        \n",
    "        tip.append(float(body.partition(\"Tip:\")[2].partition(\"\\r\\n\\r\\n\")[0].strip()))\n",
    "        \n",
    "    return [date, rtime, restaurant, dtime, tip]"
   ]
  },
  {
   "cell_type": "code",
   "execution_count": 8,
   "metadata": {
    "collapsed": true
   },
   "outputs": [],
   "source": [
    "def clean_datetime(df):\n",
    "    dates = [datetime.datetime.strptime(date, \"%Y-%m-%d\") for date in df[\"Date\"]]\n",
    "    times = [datetime.datetime.strptime(tim, \"%H:%M:%S\").time() for tim in df[\"Time\"]]\n",
    "    df[\"Date\"] = dates\n",
    "    df[\"Time\"] = times\n",
    "    \n",
    "    return df"
   ]
  },
  {
   "cell_type": "code",
   "execution_count": 9,
   "metadata": {
    "collapsed": false
   },
   "outputs": [],
   "source": [
    "mails = clean_list(dmail)\n",
    "[date, rtime, restaurant, dtime, tip] = parse_mails(mails)\n",
    "merged_list = list(zip(*[date, rtime, restaurant, dtime, tip]))"
   ]
  },
  {
   "cell_type": "code",
   "execution_count": 10,
   "metadata": {
    "collapsed": false,
    "scrolled": true
   },
   "outputs": [],
   "source": [
    "df = pd.DataFrame(merged_list, columns=['Date', 'Time', 'Restaurant', 'Delivery Time (s)', 'Tip'])\n",
    "df = df[df[\"Delivery Time (s)\"] < 3000]\n",
    "df = clean_datetime(df)"
   ]
  },
  {
   "cell_type": "code",
   "execution_count": 11,
   "metadata": {
    "collapsed": false
   },
   "outputs": [
    {
     "data": {
      "text/html": [
       "<div>\n",
       "<table border=\"1\" class=\"dataframe\">\n",
       "  <thead>\n",
       "    <tr style=\"text-align: right;\">\n",
       "      <th></th>\n",
       "      <th>Date</th>\n",
       "      <th>Time</th>\n",
       "      <th>Restaurant</th>\n",
       "      <th>Delivery Time (s)</th>\n",
       "      <th>Tip</th>\n",
       "    </tr>\n",
       "  </thead>\n",
       "  <tbody>\n",
       "    <tr>\n",
       "      <th>0</th>\n",
       "      <td>2016-01-31</td>\n",
       "      <td>18:17:24</td>\n",
       "      <td>Civerinos</td>\n",
       "      <td>879</td>\n",
       "      <td>0</td>\n",
       "    </tr>\n",
       "    <tr>\n",
       "      <th>1</th>\n",
       "      <td>2016-01-28</td>\n",
       "      <td>18:36:57</td>\n",
       "      <td>Mariachi</td>\n",
       "      <td>597</td>\n",
       "      <td>0</td>\n",
       "    </tr>\n",
       "    <tr>\n",
       "      <th>2</th>\n",
       "      <td>2016-01-28</td>\n",
       "      <td>18:55:13</td>\n",
       "      <td>10 To 10 In Delhi</td>\n",
       "      <td>626</td>\n",
       "      <td>1</td>\n",
       "    </tr>\n",
       "    <tr>\n",
       "      <th>3</th>\n",
       "      <td>2016-01-28</td>\n",
       "      <td>19:44:34</td>\n",
       "      <td>Lebowskis</td>\n",
       "      <td>692</td>\n",
       "      <td>0</td>\n",
       "    </tr>\n",
       "    <tr>\n",
       "      <th>4</th>\n",
       "      <td>2016-01-28</td>\n",
       "      <td>20:08:11</td>\n",
       "      <td>Ola Kala</td>\n",
       "      <td>852</td>\n",
       "      <td>0</td>\n",
       "    </tr>\n",
       "    <tr>\n",
       "      <th>5</th>\n",
       "      <td>2016-01-28</td>\n",
       "      <td>20:35:30</td>\n",
       "      <td>Harajuku Kitchen</td>\n",
       "      <td>365</td>\n",
       "      <td>0</td>\n",
       "    </tr>\n",
       "    <tr>\n",
       "      <th>6</th>\n",
       "      <td>2016-01-28</td>\n",
       "      <td>21:14:39</td>\n",
       "      <td>Sushiya</td>\n",
       "      <td>966</td>\n",
       "      <td>0</td>\n",
       "    </tr>\n",
       "    <tr>\n",
       "      <th>7</th>\n",
       "      <td>2016-01-29</td>\n",
       "      <td>18:18:07</td>\n",
       "      <td>The Southern</td>\n",
       "      <td>571</td>\n",
       "      <td>0</td>\n",
       "    </tr>\n",
       "    <tr>\n",
       "      <th>8</th>\n",
       "      <td>2016-01-29</td>\n",
       "      <td>18:51:10</td>\n",
       "      <td>Wagamama - City Centre</td>\n",
       "      <td>535</td>\n",
       "      <td>0</td>\n",
       "    </tr>\n",
       "    <tr>\n",
       "      <th>9</th>\n",
       "      <td>2016-01-29</td>\n",
       "      <td>19:24:51</td>\n",
       "      <td>Zizzi - Quay</td>\n",
       "      <td>1389</td>\n",
       "      <td>0</td>\n",
       "    </tr>\n",
       "    <tr>\n",
       "      <th>10</th>\n",
       "      <td>2016-01-29</td>\n",
       "      <td>19:42:26</td>\n",
       "      <td>Aji Sushi</td>\n",
       "      <td>463</td>\n",
       "      <td>0</td>\n",
       "    </tr>\n",
       "    <tr>\n",
       "      <th>11</th>\n",
       "      <td>2016-01-29</td>\n",
       "      <td>20:10:10</td>\n",
       "      <td>Ola Kala</td>\n",
       "      <td>1076</td>\n",
       "      <td>0</td>\n",
       "    </tr>\n",
       "    <tr>\n",
       "      <th>12</th>\n",
       "      <td>2016-01-29</td>\n",
       "      <td>20:38:28</td>\n",
       "      <td>Ignite</td>\n",
       "      <td>798</td>\n",
       "      <td>0</td>\n",
       "    </tr>\n",
       "    <tr>\n",
       "      <th>13</th>\n",
       "      <td>2016-01-29</td>\n",
       "      <td>21:13:12</td>\n",
       "      <td>Guchhi India</td>\n",
       "      <td>659</td>\n",
       "      <td>0</td>\n",
       "    </tr>\n",
       "    <tr>\n",
       "      <th>14</th>\n",
       "      <td>2016-01-31</td>\n",
       "      <td>17:52:21</td>\n",
       "      <td>Wannaburger</td>\n",
       "      <td>589</td>\n",
       "      <td>0</td>\n",
       "    </tr>\n",
       "    <tr>\n",
       "      <th>15</th>\n",
       "      <td>2016-01-31</td>\n",
       "      <td>18:49:13</td>\n",
       "      <td>ASK Italian - Edinburgh</td>\n",
       "      <td>990</td>\n",
       "      <td>0</td>\n",
       "    </tr>\n",
       "    <tr>\n",
       "      <th>16</th>\n",
       "      <td>2016-01-31</td>\n",
       "      <td>19:15:38</td>\n",
       "      <td>YO! Sushi - Princes Street</td>\n",
       "      <td>405</td>\n",
       "      <td>0</td>\n",
       "    </tr>\n",
       "    <tr>\n",
       "      <th>17</th>\n",
       "      <td>2016-01-31</td>\n",
       "      <td>19:37:32</td>\n",
       "      <td>Gourmet Burger Kitchen - Edinburgh</td>\n",
       "      <td>746</td>\n",
       "      <td>2</td>\n",
       "    </tr>\n",
       "    <tr>\n",
       "      <th>18</th>\n",
       "      <td>2016-01-31</td>\n",
       "      <td>20:13:17</td>\n",
       "      <td>Wagamama - City Centre</td>\n",
       "      <td>799</td>\n",
       "      <td>0</td>\n",
       "    </tr>\n",
       "    <tr>\n",
       "      <th>19</th>\n",
       "      <td>2016-01-31</td>\n",
       "      <td>20:40:04</td>\n",
       "      <td>Pomegranate - Edinburgh</td>\n",
       "      <td>1164</td>\n",
       "      <td>0</td>\n",
       "    </tr>\n",
       "    <tr>\n",
       "      <th>20</th>\n",
       "      <td>2016-01-31</td>\n",
       "      <td>21:08:09</td>\n",
       "      <td>Gourmet Burger Kitchen - Edinburgh</td>\n",
       "      <td>882</td>\n",
       "      <td>0</td>\n",
       "    </tr>\n",
       "    <tr>\n",
       "      <th>21</th>\n",
       "      <td>2016-01-31</td>\n",
       "      <td>21:19:37</td>\n",
       "      <td>The Olive Branch</td>\n",
       "      <td>335</td>\n",
       "      <td>0</td>\n",
       "    </tr>\n",
       "    <tr>\n",
       "      <th>22</th>\n",
       "      <td>2016-02-05</td>\n",
       "      <td>18:03:38</td>\n",
       "      <td>Mariachi</td>\n",
       "      <td>739</td>\n",
       "      <td>2</td>\n",
       "    </tr>\n",
       "    <tr>\n",
       "      <th>23</th>\n",
       "      <td>2016-02-05</td>\n",
       "      <td>18:53:23</td>\n",
       "      <td>Hanam's</td>\n",
       "      <td>855</td>\n",
       "      <td>0</td>\n",
       "    </tr>\n",
       "    <tr>\n",
       "      <th>24</th>\n",
       "      <td>2016-02-05</td>\n",
       "      <td>19:22:31</td>\n",
       "      <td>Aji Sushi</td>\n",
       "      <td>813</td>\n",
       "      <td>0</td>\n",
       "    </tr>\n",
       "    <tr>\n",
       "      <th>25</th>\n",
       "      <td>2016-02-05</td>\n",
       "      <td>20:31:56</td>\n",
       "      <td>Zuhus</td>\n",
       "      <td>675</td>\n",
       "      <td>2</td>\n",
       "    </tr>\n",
       "    <tr>\n",
       "      <th>26</th>\n",
       "      <td>2016-02-05</td>\n",
       "      <td>20:58:02</td>\n",
       "      <td>Sushiya</td>\n",
       "      <td>478</td>\n",
       "      <td>0</td>\n",
       "    </tr>\n",
       "    <tr>\n",
       "      <th>27</th>\n",
       "      <td>2016-02-05</td>\n",
       "      <td>22:01:49</td>\n",
       "      <td>The Whistle Stop Barber Shop</td>\n",
       "      <td>942</td>\n",
       "      <td>0</td>\n",
       "    </tr>\n",
       "    <tr>\n",
       "      <th>28</th>\n",
       "      <td>2016-02-06</td>\n",
       "      <td>17:41:58</td>\n",
       "      <td>Gourmet Burger Kitchen - Edinburgh</td>\n",
       "      <td>556</td>\n",
       "      <td>0</td>\n",
       "    </tr>\n",
       "    <tr>\n",
       "      <th>29</th>\n",
       "      <td>2016-02-06</td>\n",
       "      <td>18:05:57</td>\n",
       "      <td>Ola Kala</td>\n",
       "      <td>515</td>\n",
       "      <td>0</td>\n",
       "    </tr>\n",
       "    <tr>\n",
       "      <th>...</th>\n",
       "      <td>...</td>\n",
       "      <td>...</td>\n",
       "      <td>...</td>\n",
       "      <td>...</td>\n",
       "      <td>...</td>\n",
       "    </tr>\n",
       "    <tr>\n",
       "      <th>664</th>\n",
       "      <td>2016-08-12</td>\n",
       "      <td>17:54:56</td>\n",
       "      <td>Sushiya</td>\n",
       "      <td>431</td>\n",
       "      <td>0</td>\n",
       "    </tr>\n",
       "    <tr>\n",
       "      <th>665</th>\n",
       "      <td>2016-08-12</td>\n",
       "      <td>18:24:06</td>\n",
       "      <td>Byron - Edinburgh</td>\n",
       "      <td>519</td>\n",
       "      <td>0</td>\n",
       "    </tr>\n",
       "    <tr>\n",
       "      <th>666</th>\n",
       "      <td>2016-08-15</td>\n",
       "      <td>19:45:56</td>\n",
       "      <td>Greenmantle</td>\n",
       "      <td>398</td>\n",
       "      <td>0</td>\n",
       "    </tr>\n",
       "    <tr>\n",
       "      <th>667</th>\n",
       "      <td>2016-08-12</td>\n",
       "      <td>19:12:54</td>\n",
       "      <td>Taco Mazama - Lothian Road</td>\n",
       "      <td>1082</td>\n",
       "      <td>0</td>\n",
       "    </tr>\n",
       "    <tr>\n",
       "      <th>668</th>\n",
       "      <td>2016-08-12</td>\n",
       "      <td>19:34:22</td>\n",
       "      <td>Byron - Lothian Road</td>\n",
       "      <td>513</td>\n",
       "      <td>0</td>\n",
       "    </tr>\n",
       "    <tr>\n",
       "      <th>669</th>\n",
       "      <td>2016-08-12</td>\n",
       "      <td>19:57:03</td>\n",
       "      <td>Ola Kala</td>\n",
       "      <td>580</td>\n",
       "      <td>0</td>\n",
       "    </tr>\n",
       "    <tr>\n",
       "      <th>670</th>\n",
       "      <td>2016-08-12</td>\n",
       "      <td>20:20:38</td>\n",
       "      <td>Byron - Edinburgh</td>\n",
       "      <td>812</td>\n",
       "      <td>0</td>\n",
       "    </tr>\n",
       "    <tr>\n",
       "      <th>671</th>\n",
       "      <td>2016-08-12</td>\n",
       "      <td>20:40:22</td>\n",
       "      <td>Sushiya</td>\n",
       "      <td>585</td>\n",
       "      <td>0</td>\n",
       "    </tr>\n",
       "    <tr>\n",
       "      <th>672</th>\n",
       "      <td>2016-08-19</td>\n",
       "      <td>21:17:50</td>\n",
       "      <td>Zizzi - Roxburgh Court</td>\n",
       "      <td>668</td>\n",
       "      <td>0</td>\n",
       "    </tr>\n",
       "    <tr>\n",
       "      <th>673</th>\n",
       "      <td>2016-08-12</td>\n",
       "      <td>21:35:49</td>\n",
       "      <td>Indigo Yard</td>\n",
       "      <td>229</td>\n",
       "      <td>0</td>\n",
       "    </tr>\n",
       "    <tr>\n",
       "      <th>674</th>\n",
       "      <td>2016-08-12</td>\n",
       "      <td>22:03:03</td>\n",
       "      <td>1851 - Northbridge - PizzaExpress</td>\n",
       "      <td>674</td>\n",
       "      <td>0</td>\n",
       "    </tr>\n",
       "    <tr>\n",
       "      <th>675</th>\n",
       "      <td>2016-08-12</td>\n",
       "      <td>22:15:22</td>\n",
       "      <td>Sushiya</td>\n",
       "      <td>268</td>\n",
       "      <td>0</td>\n",
       "    </tr>\n",
       "    <tr>\n",
       "      <th>676</th>\n",
       "      <td>2016-08-12</td>\n",
       "      <td>22:35:05</td>\n",
       "      <td>Zuhus</td>\n",
       "      <td>464</td>\n",
       "      <td>0</td>\n",
       "    </tr>\n",
       "    <tr>\n",
       "      <th>677</th>\n",
       "      <td>2016-08-15</td>\n",
       "      <td>18:03:19</td>\n",
       "      <td>Tutto Matto</td>\n",
       "      <td>490</td>\n",
       "      <td>0</td>\n",
       "    </tr>\n",
       "    <tr>\n",
       "      <th>678</th>\n",
       "      <td>2016-08-19</td>\n",
       "      <td>20:49:08</td>\n",
       "      <td>3311 - George IV Bridge - PizzaExpress</td>\n",
       "      <td>633</td>\n",
       "      <td>0</td>\n",
       "    </tr>\n",
       "    <tr>\n",
       "      <th>679</th>\n",
       "      <td>2016-08-15</td>\n",
       "      <td>18:56:53</td>\n",
       "      <td>3351 - Morningside - PizzaExpress</td>\n",
       "      <td>323</td>\n",
       "      <td>0</td>\n",
       "    </tr>\n",
       "    <tr>\n",
       "      <th>680</th>\n",
       "      <td>2016-08-15</td>\n",
       "      <td>19:28:15</td>\n",
       "      <td>Rigatoni's</td>\n",
       "      <td>1266</td>\n",
       "      <td>0</td>\n",
       "    </tr>\n",
       "    <tr>\n",
       "      <th>681</th>\n",
       "      <td>2016-08-19</td>\n",
       "      <td>20:01:26</td>\n",
       "      <td>Byron - Edinburgh</td>\n",
       "      <td>375</td>\n",
       "      <td>0</td>\n",
       "    </tr>\n",
       "    <tr>\n",
       "      <th>682</th>\n",
       "      <td>2016-08-15</td>\n",
       "      <td>20:12:28</td>\n",
       "      <td>Indian Lounge</td>\n",
       "      <td>555</td>\n",
       "      <td>0</td>\n",
       "    </tr>\n",
       "    <tr>\n",
       "      <th>683</th>\n",
       "      <td>2016-08-15</td>\n",
       "      <td>21:15:44</td>\n",
       "      <td>Zuhus</td>\n",
       "      <td>673</td>\n",
       "      <td>0</td>\n",
       "    </tr>\n",
       "    <tr>\n",
       "      <th>684</th>\n",
       "      <td>2016-07-25</td>\n",
       "      <td>19:23:14</td>\n",
       "      <td>BURGER. Fountainbridge</td>\n",
       "      <td>537</td>\n",
       "      <td>1</td>\n",
       "    </tr>\n",
       "    <tr>\n",
       "      <th>685</th>\n",
       "      <td>2016-08-19</td>\n",
       "      <td>18:45:34</td>\n",
       "      <td>Sushiya</td>\n",
       "      <td>908</td>\n",
       "      <td>0</td>\n",
       "    </tr>\n",
       "    <tr>\n",
       "      <th>686</th>\n",
       "      <td>2016-08-19</td>\n",
       "      <td>19:11:56</td>\n",
       "      <td>Sushiya</td>\n",
       "      <td>624</td>\n",
       "      <td>0</td>\n",
       "    </tr>\n",
       "    <tr>\n",
       "      <th>687</th>\n",
       "      <td>2016-08-19</td>\n",
       "      <td>22:03:27</td>\n",
       "      <td>Bar Italia Ristorante</td>\n",
       "      <td>568</td>\n",
       "      <td>1</td>\n",
       "    </tr>\n",
       "    <tr>\n",
       "      <th>688</th>\n",
       "      <td>2016-08-19</td>\n",
       "      <td>19:34:28</td>\n",
       "      <td>Sushiya</td>\n",
       "      <td>675</td>\n",
       "      <td>2</td>\n",
       "    </tr>\n",
       "    <tr>\n",
       "      <th>690</th>\n",
       "      <td>2016-06-27</td>\n",
       "      <td>18:46:46</td>\n",
       "      <td>Byron - Edinburgh</td>\n",
       "      <td>875</td>\n",
       "      <td>0</td>\n",
       "    </tr>\n",
       "    <tr>\n",
       "      <th>691</th>\n",
       "      <td>2016-08-19</td>\n",
       "      <td>20:26:32</td>\n",
       "      <td>The City Restaurant</td>\n",
       "      <td>415</td>\n",
       "      <td>0</td>\n",
       "    </tr>\n",
       "    <tr>\n",
       "      <th>692</th>\n",
       "      <td>2016-05-23</td>\n",
       "      <td>17:48:25</td>\n",
       "      <td>Bonsai Bar</td>\n",
       "      <td>603</td>\n",
       "      <td>3</td>\n",
       "    </tr>\n",
       "    <tr>\n",
       "      <th>693</th>\n",
       "      <td>2016-04-02</td>\n",
       "      <td>19:58:34</td>\n",
       "      <td>Sushiya</td>\n",
       "      <td>859</td>\n",
       "      <td>0</td>\n",
       "    </tr>\n",
       "    <tr>\n",
       "      <th>694</th>\n",
       "      <td>2016-02-26</td>\n",
       "      <td>20:13:03</td>\n",
       "      <td>The Whistle Stop Barber Shop</td>\n",
       "      <td>906</td>\n",
       "      <td>0</td>\n",
       "    </tr>\n",
       "  </tbody>\n",
       "</table>\n",
       "<p>689 rows × 5 columns</p>\n",
       "</div>"
      ],
      "text/plain": [
       "          Date      Time                              Restaurant  \\\n",
       "0   2016-01-31  18:17:24                               Civerinos   \n",
       "1   2016-01-28  18:36:57                                Mariachi   \n",
       "2   2016-01-28  18:55:13                       10 To 10 In Delhi   \n",
       "3   2016-01-28  19:44:34                               Lebowskis   \n",
       "4   2016-01-28  20:08:11                                Ola Kala   \n",
       "5   2016-01-28  20:35:30                        Harajuku Kitchen   \n",
       "6   2016-01-28  21:14:39                                 Sushiya   \n",
       "7   2016-01-29  18:18:07                            The Southern   \n",
       "8   2016-01-29  18:51:10                  Wagamama - City Centre   \n",
       "9   2016-01-29  19:24:51                            Zizzi - Quay   \n",
       "10  2016-01-29  19:42:26                               Aji Sushi   \n",
       "11  2016-01-29  20:10:10                                Ola Kala   \n",
       "12  2016-01-29  20:38:28                                  Ignite   \n",
       "13  2016-01-29  21:13:12                            Guchhi India   \n",
       "14  2016-01-31  17:52:21                             Wannaburger   \n",
       "15  2016-01-31  18:49:13                 ASK Italian - Edinburgh   \n",
       "16  2016-01-31  19:15:38              YO! Sushi - Princes Street   \n",
       "17  2016-01-31  19:37:32      Gourmet Burger Kitchen - Edinburgh   \n",
       "18  2016-01-31  20:13:17                  Wagamama - City Centre   \n",
       "19  2016-01-31  20:40:04                 Pomegranate - Edinburgh   \n",
       "20  2016-01-31  21:08:09      Gourmet Burger Kitchen - Edinburgh   \n",
       "21  2016-01-31  21:19:37                        The Olive Branch   \n",
       "22  2016-02-05  18:03:38                                Mariachi   \n",
       "23  2016-02-05  18:53:23                                 Hanam's   \n",
       "24  2016-02-05  19:22:31                               Aji Sushi   \n",
       "25  2016-02-05  20:31:56                                   Zuhus   \n",
       "26  2016-02-05  20:58:02                                 Sushiya   \n",
       "27  2016-02-05  22:01:49            The Whistle Stop Barber Shop   \n",
       "28  2016-02-06  17:41:58      Gourmet Burger Kitchen - Edinburgh   \n",
       "29  2016-02-06  18:05:57                                Ola Kala   \n",
       "..         ...       ...                                     ...   \n",
       "664 2016-08-12  17:54:56                                 Sushiya   \n",
       "665 2016-08-12  18:24:06                       Byron - Edinburgh   \n",
       "666 2016-08-15  19:45:56                             Greenmantle   \n",
       "667 2016-08-12  19:12:54              Taco Mazama - Lothian Road   \n",
       "668 2016-08-12  19:34:22                    Byron - Lothian Road   \n",
       "669 2016-08-12  19:57:03                                Ola Kala   \n",
       "670 2016-08-12  20:20:38                       Byron - Edinburgh   \n",
       "671 2016-08-12  20:40:22                                 Sushiya   \n",
       "672 2016-08-19  21:17:50                  Zizzi - Roxburgh Court   \n",
       "673 2016-08-12  21:35:49                             Indigo Yard   \n",
       "674 2016-08-12  22:03:03       1851 - Northbridge - PizzaExpress   \n",
       "675 2016-08-12  22:15:22                                 Sushiya   \n",
       "676 2016-08-12  22:35:05                                   Zuhus   \n",
       "677 2016-08-15  18:03:19                             Tutto Matto   \n",
       "678 2016-08-19  20:49:08  3311 - George IV Bridge - PizzaExpress   \n",
       "679 2016-08-15  18:56:53       3351 - Morningside - PizzaExpress   \n",
       "680 2016-08-15  19:28:15                              Rigatoni's   \n",
       "681 2016-08-19  20:01:26                       Byron - Edinburgh   \n",
       "682 2016-08-15  20:12:28                           Indian Lounge   \n",
       "683 2016-08-15  21:15:44                                   Zuhus   \n",
       "684 2016-07-25  19:23:14                  BURGER. Fountainbridge   \n",
       "685 2016-08-19  18:45:34                                 Sushiya   \n",
       "686 2016-08-19  19:11:56                                 Sushiya   \n",
       "687 2016-08-19  22:03:27                   Bar Italia Ristorante   \n",
       "688 2016-08-19  19:34:28                                 Sushiya   \n",
       "690 2016-06-27  18:46:46                       Byron - Edinburgh   \n",
       "691 2016-08-19  20:26:32                     The City Restaurant   \n",
       "692 2016-05-23  17:48:25                              Bonsai Bar   \n",
       "693 2016-04-02  19:58:34                                 Sushiya   \n",
       "694 2016-02-26  20:13:03            The Whistle Stop Barber Shop   \n",
       "\n",
       "     Delivery Time (s)  Tip  \n",
       "0                  879    0  \n",
       "1                  597    0  \n",
       "2                  626    1  \n",
       "3                  692    0  \n",
       "4                  852    0  \n",
       "5                  365    0  \n",
       "6                  966    0  \n",
       "7                  571    0  \n",
       "8                  535    0  \n",
       "9                 1389    0  \n",
       "10                 463    0  \n",
       "11                1076    0  \n",
       "12                 798    0  \n",
       "13                 659    0  \n",
       "14                 589    0  \n",
       "15                 990    0  \n",
       "16                 405    0  \n",
       "17                 746    2  \n",
       "18                 799    0  \n",
       "19                1164    0  \n",
       "20                 882    0  \n",
       "21                 335    0  \n",
       "22                 739    2  \n",
       "23                 855    0  \n",
       "24                 813    0  \n",
       "25                 675    2  \n",
       "26                 478    0  \n",
       "27                 942    0  \n",
       "28                 556    0  \n",
       "29                 515    0  \n",
       "..                 ...  ...  \n",
       "664                431    0  \n",
       "665                519    0  \n",
       "666                398    0  \n",
       "667               1082    0  \n",
       "668                513    0  \n",
       "669                580    0  \n",
       "670                812    0  \n",
       "671                585    0  \n",
       "672                668    0  \n",
       "673                229    0  \n",
       "674                674    0  \n",
       "675                268    0  \n",
       "676                464    0  \n",
       "677                490    0  \n",
       "678                633    0  \n",
       "679                323    0  \n",
       "680               1266    0  \n",
       "681                375    0  \n",
       "682                555    0  \n",
       "683                673    0  \n",
       "684                537    1  \n",
       "685                908    0  \n",
       "686                624    0  \n",
       "687                568    1  \n",
       "688                675    2  \n",
       "690                875    0  \n",
       "691                415    0  \n",
       "692                603    3  \n",
       "693                859    0  \n",
       "694                906    0  \n",
       "\n",
       "[689 rows x 5 columns]"
      ]
     },
     "execution_count": 11,
     "metadata": {},
     "output_type": "execute_result"
    }
   ],
   "source": [
    "df"
   ]
  },
  {
   "cell_type": "code",
   "execution_count": 12,
   "metadata": {
    "collapsed": false
   },
   "outputs": [
    {
     "data": {
      "image/png": "[encoded data removed]",
      "text/plain": [
       "<matplotlib.figure.Figure at 0x7fab474d5eb8>"
      ]
     },
     "metadata": {},
     "output_type": "display_data"
    }
   ],
   "source": [
    "df[\"Delivery Time (s)\"].plot()\n",
    "m, s = divmod(df[\"Delivery Time (s)\"].mean(), 60)\n",
    "#print(\"{}:{}\".format(m,s ))"
   ]
  },
  {
   "cell_type": "code",
   "execution_count": 13,
   "metadata": {
    "collapsed": false
   },
   "outputs": [
    {
     "data": {
      "text/plain": [
       "196.0"
      ]
     },
     "execution_count": 13,
     "metadata": {},
     "output_type": "execute_result"
    },
    {
     "data": {
      "image/png": "[encoded data removed]",
      "text/plain": [
       "<matplotlib.figure.Figure at 0x7fab44cb69e8>"
      ]
     },
     "metadata": {},
     "output_type": "display_data"
    }
   ],
   "source": [
    "df[\"Tip\"].plot()\n",
    "df[\"Tip\"].sum()"
   ]
  },
  {
   "cell_type": "code",
   "execution_count": 14,
   "metadata": {
    "collapsed": true
   },
   "outputs": [],
   "source": [
    "def roundup(number, max):\n",
    "    return int(math.ceil(number / 100)) * 100"
   ]
  },
  {
   "cell_type": "code",
   "execution_count": 15,
   "metadata": {
    "collapsed": false
   },
   "outputs": [],
   "source": [
    "dateby = df.groupby([\"Date\"]).mean()\n",
    "dtimems = []\n",
    "for elem in dateby[\"Delivery Time (s)\"]:\n",
    "    m, s = divmod(elem, 60)\n",
    "    dtimems.append(m + (round(s, -2) / 100))\n",
    "\n",
    "dateby[\"Delivery Time (s)\"] = dtimems"
   ]
  },
  {
   "cell_type": "code",
   "execution_count": 16,
   "metadata": {
    "collapsed": false
   },
   "outputs": [
    {
     "data": {
      "text/plain": [
       "<matplotlib.axes._subplots.AxesSubplot at 0x7fab44785978>"
      ]
     },
     "execution_count": 16,
     "metadata": {},
     "output_type": "execute_result"
    },
    {
     "data": {
      "image/png": "[encoded data removed]",
      "text/plain": [
       "<matplotlib.figure.Figure at 0x7fab4478c898>"
      ]
     },
     "metadata": {},
     "output_type": "display_data"
    }
   ],
   "source": [
    "dateby[\"Delivery Time (s)\"].hist()"
   ]
  },
  {
   "cell_type": "code",
   "execution_count": 17,
   "metadata": {
    "collapsed": false,
    "scrolled": true
   },
   "outputs": [
    {
     "data": {
      "text/plain": [
       "<matplotlib.axes._subplots.AxesSubplot at 0x7fab44660198>"
      ]
     },
     "execution_count": 17,
     "metadata": {},
     "output_type": "execute_result"
    },
    {
     "data": {
      "image/png": "[encoded data removed]",
      "text/plain": [
       "<matplotlib.figure.Figure at 0x7fab44672c50>"
      ]
     },
     "metadata": {},
     "output_type": "display_data"
    }
   ],
   "source": [
    "dateby[\"Delivery Time (s)\"].plot()"
   ]
  },
  {
   "cell_type": "code",
   "execution_count": 18,
   "metadata": {
    "collapsed": false
   },
   "outputs": [
    {
     "data": {
      "text/plain": [
       "<matplotlib.axes._subplots.AxesSubplot at 0x7fab446942e8>"
      ]
     },
     "execution_count": 18,
     "metadata": {},
     "output_type": "execute_result"
    },
    {
     "data": {
      "image/png": "[encoded data removed]",
      "text/plain": [
       "<matplotlib.figure.Figure at 0x7fab4461c128>"
      ]
     },
     "metadata": {},
     "output_type": "display_data"
    }
   ],
   "source": [
    "dateby[\"Tip\"].plot()"
   ]
  },
  {
   "cell_type": "code",
   "execution_count": 19,
   "metadata": {
    "collapsed": false
   },
   "outputs": [
    {
     "name": "stderr",
     "output_type": "stream",
     "text": [
      "/home/ruski/anaconda3/lib/python3.5/site-packages/statsmodels/nonparametric/kdetools.py:20: VisibleDeprecationWarning: using a non-integer number instead of an integer will result in an error in the future\n",
      "  y = X[:m/2+1] + np.r_[0,X[m/2+1:],0]*1j\n"
     ]
    },
    {
     "data": {
      "text/plain": [
       "<seaborn.axisgrid.JointGrid at 0x7fab4460d2b0>"
      ]
     },
     "execution_count": 19,
     "metadata": {},
     "output_type": "execute_result"
    },
    {
     "data": {
      "image/png": "[encoded data removed]",
      "text/plain": [
       "<matplotlib.figure.Figure at 0x7fab4460d8d0>"
      ]
     },
     "metadata": {},
     "output_type": "display_data"
    }
   ],
   "source": [
    "day_dtime_plot = df.groupby([\"Date\"]).sum()\n",
    "day_dtime_plot\n",
    "sns.jointplot(x = day_dtime_plot[\"Delivery Time (s)\"], y = day_dtime_plot[\"Tip\"], kind = \"kde\")"
   ]
  },
  {
   "cell_type": "code",
   "execution_count": 20,
   "metadata": {
    "collapsed": false
   },
   "outputs": [
    {
     "data": {
      "text/plain": [
       "Delivery Time (s)    916.6\n",
       "Tip                    1.0\n",
       "dtype: float64"
      ]
     },
     "execution_count": 20,
     "metadata": {},
     "output_type": "execute_result"
    }
   ],
   "source": [
    "df.groupby([\"Date\"]).mean().max()"
   ]
  },
  {
   "cell_type": "code",
   "execution_count": 21,
   "metadata": {
    "collapsed": false
   },
   "outputs": [],
   "source": [
    "rest_day = df.groupby([\"Restaurant\"]).mean()"
   ]
  },
  {
   "cell_type": "code",
   "execution_count": 22,
   "metadata": {
    "collapsed": false
   },
   "outputs": [
    {
     "ename": "AttributeError",
     "evalue": "'float' object has no attribute 'max'",
     "output_type": "error",
     "traceback": [
      "\u001b[1;31m---------------------------------------------------------------------------\u001b[0m",
      "\u001b[1;31mAttributeError\u001b[0m                            Traceback (most recent call last)",
      "\u001b[1;32m<ipython-input-22-d26f7a590d0d>\u001b[0m in \u001b[0;36m<module>\u001b[1;34m()\u001b[0m\n\u001b[1;32m----> 1\u001b[1;33m \u001b[0mrest_day_mean\u001b[0m \u001b[1;33m=\u001b[0m \u001b[0mrest_day\u001b[0m\u001b[1;33m[\u001b[0m\u001b[1;34m\"Tip\"\u001b[0m\u001b[1;33m]\u001b[0m\u001b[1;33m.\u001b[0m\u001b[0mmean\u001b[0m\u001b[1;33m(\u001b[0m\u001b[1;33m)\u001b[0m\u001b[1;33m.\u001b[0m\u001b[0mmax\u001b[0m\u001b[1;33m(\u001b[0m\u001b[1;33m)\u001b[0m\u001b[1;33m\u001b[0m\u001b[0m\n\u001b[0m\u001b[0;32m      2\u001b[0m \u001b[0mrest_day_mean\u001b[0m\u001b[1;33m\u001b[0m\u001b[0m\n\u001b[0;32m      3\u001b[0m \u001b[1;31m#sns.kdeplot(rest_day_mean)\u001b[0m\u001b[1;33m\u001b[0m\u001b[1;33m\u001b[0m\u001b[0m\n",
      "\u001b[1;31mAttributeError\u001b[0m: 'float' object has no attribute 'max'"
     ]
    }
   ],
   "source": [
    "rest_day_mean = rest_day[\"Tip\"].mean().max()\n",
    "rest_day_mean\n",
    "#sns.kdeplot(rest_day_mean)"
   ]
  },
  {
   "cell_type": "code",
   "execution_count": null,
   "metadata": {
    "collapsed": false
   },
   "outputs": [],
   "source": [
    "df.groupby([\"Delivery Time (s)\"])[\"Tip\"]"
   ]
  }
 ],
 "metadata": {
  "anaconda-cloud": {},
  "kernelspec": {
   "display_name": "Python [Root]",
   "language": "python",
   "name": "Python [Root]"
  },
  "language_info": {
   "codemirror_mode": {
    "name": "ipython",
    "version": 3
   },
   "file_extension": ".py",
   "mimetype": "text/x-python",
   "name": "python",
   "nbconvert_exporter": "python",
   "pygments_lexer": "ipython3",
   "version": "3.5.2"
  }
 },
 "nbformat": 4,
 "nbformat_minor": 0
}

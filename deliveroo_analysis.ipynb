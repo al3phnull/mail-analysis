{
 "cells": [
  {
   "cell_type": "code",
   "execution_count": 38,
   "metadata": {
    "collapsed": false
   },
   "outputs": [],
   "source": [
    "import numpy as np\n",
    "import pandas as pd\n",
    "import matplotlib\n",
    "import matplotlib.pyplot as plt\n",
    "import datetime\n",
    "import mailbox\n",
    "import seaborn as sns"
   ]
  },
  {
   "cell_type": "code",
   "execution_count": 39,
   "metadata": {
    "collapsed": false
   },
   "outputs": [
    {
     "name": "stdout",
     "output_type": "stream",
     "text": [
      "Populating the interactive namespace from numpy and matplotlib\n"
     ]
    },
    {
     "name": "stderr",
     "output_type": "stream",
     "text": [
      "WARNING: pylab import has clobbered these variables: ['clf']\n",
      "`%matplotlib` prevents importing * from pylab and numpy\n"
     ]
    }
   ],
   "source": [
    "%pylab inline"
   ]
  },
  {
   "cell_type": "markdown",
   "metadata": {},
   "source": [
    "Below, we import our mailbox in `.mbox` format, and declare the lists that we are going to use."
   ]
  },
  {
   "cell_type": "code",
   "execution_count": 40,
   "metadata": {
    "collapsed": false
   },
   "outputs": [],
   "source": [
    "dmail = mailbox.mbox(\"Deliveroo.mbox\")"
   ]
  },
  {
   "cell_type": "code",
   "execution_count": 41,
   "metadata": {
    "collapsed": true
   },
   "outputs": [],
   "source": [
    "merged_list = []\n",
    "mails = []\n",
    "restaurant = []\n",
    "date = []\n",
    "rtime = []\n",
    "dtime = []\n",
    "tip = []"
   ]
  },
  {
   "cell_type": "code",
   "execution_count": 42,
   "metadata": {
    "collapsed": false
   },
   "outputs": [],
   "source": [
    "def clean_list(dmail):\n",
    "    \"\"\"Extract only Order delivery history from mailbox\"\"\"\n",
    "    for message in dmail:\n",
    "        if message[\"subject\"].split()[0] == 'Order':\n",
    "            mails.append(message)\n",
    "        else:\n",
    "            continue \n",
    "    return mails"
   ]
  },
  {
   "cell_type": "code",
   "execution_count": 43,
   "metadata": {
    "collapsed": true
   },
   "outputs": [],
   "source": [
    "def clean_dtime(dtime):\n",
    "    \"\"\"Convert time strings to integer seconds\"\"\"\n",
    "    lex = dtime.split()\n",
    "    lex = [lex[0].replace(\"m\", \"\"), lex[1].replace(\"s\", \"\")]\n",
    "    return int(lex[0])*60 + int(lex[1])"
   ]
  },
  {
   "cell_type": "code",
   "execution_count": 44,
   "metadata": {
    "collapsed": false
   },
   "outputs": [],
   "source": [
    "def parse_mails(mails):\n",
    "    \"\"\"Trims unnecessary text from email, giving us only the meat\"\"\"\n",
    "    for message in mails:\n",
    "        body = str(message.get_payload())\n",
    "        restaurant.append(body.partition(\"Restaurant:\")[2].partition(\"\\r\\nRest\")[0].strip())\n",
    "        date.append(str.split(body.partition(\"at:\")[2].partition(\"\\r\\nDel\")[0])[0])\n",
    "        rtime.append(str.split(body.partition(\"at:\")[2].partition(\"\\r\\nDel\")[0])[1])\n",
    "        bad_dtime = body.partition(\"Time:\")[2].partition(\"\\r\\n\\r\\n\")[0].strip()\n",
    "        good_dtime = clean_dtime(bad_dtime)\n",
    "        dtime.append(good_dtime)\n",
    "        \n",
    "        tip.append(float(body.partition(\"Tip:\")[2].partition(\"\\r\\n\\r\\n\")[0].strip()))\n",
    "        \n",
    "    return [date, rtime, restaurant, dtime, tip]"
   ]
  },
  {
   "cell_type": "code",
   "execution_count": 45,
   "metadata": {
    "collapsed": true
   },
   "outputs": [],
   "source": [
    "def clean_datetime(df):\n",
    "    \"\"\"Converts dates and times to datetime format\"\"\"\n",
    "    dates = [datetime.datetime.strptime(date, \"%Y-%m-%d\") for date in df[\"Date\"]]\n",
    "    times = [datetime.datetime.strptime(tim, \"%H:%M:%S\").time() for tim in df[\"Time\"]]\n",
    "    df[\"Date\"] = dates\n",
    "    df[\"Time\"] = times\n",
    "    \n",
    "    return df"
   ]
  },
  {
   "cell_type": "code",
   "execution_count": 46,
   "metadata": {
    "collapsed": true
   },
   "outputs": [],
   "source": [
    "def fix_times(df):\n",
    "    \"\"\"Convert times to be human-readable (minutes, seconds)\"\"\"\n",
    "    dtimems = []\n",
    "    for elem in df[\"Delivery Time (s)\"]:\n",
    "        m, s = divmod(elem, 60)\n",
    "        dtimems.append(m + (round(s, -2) / 100))\n",
    "\n",
    "    df[\"Delivery Time (s)\"] = dtitems\n",
    "    return df"
   ]
  },
  {
   "cell_type": "code",
   "execution_count": 47,
   "metadata": {
    "collapsed": false
   },
   "outputs": [],
   "source": [
    "mails = clean_list(dmail)\n",
    "[date, rtime, restaurant, dtime, tip] = parse_mails(mails)\n",
    "merged_list = list(zip(*[date, rtime, restaurant, dtime, tip]))"
   ]
  },
  {
   "cell_type": "code",
   "execution_count": 48,
   "metadata": {
    "collapsed": false,
    "scrolled": true
   },
   "outputs": [],
   "source": [
    "df = pd.DataFrame(merged_list, columns=['Date', 'Time', 'Restaurant', 'Delivery Time (s)', 'Tip'])\n",
    "df = df[df[\"Delivery Time (s)\"] < 3000]\n",
    "df = clean_datetime(df)"
   ]
  },
  {
   "cell_type": "code",
   "execution_count": 49,
   "metadata": {
    "collapsed": false
   },
   "outputs": [
    {
     "name": "stdout",
     "output_type": "stream",
     "text": [
      "58.2278% chance of receiving credit card tip\n"
     ]
    }
   ],
   "source": [
    "rest_day = df.groupby([\"Restaurant\"]).sum()\n",
    "tip_pos = rest_day[rest_day[\"Tip\"] != 0].count() / rest_day.count()\n",
    "print(\"{0:.4f}% chance of receiving credit card tip\".format(tip_pos[\"Tip\"] * 100))"
   ]
  },
  {
   "cell_type": "code",
   "execution_count": 50,
   "metadata": {
    "collapsed": false
   },
   "outputs": [],
   "source": [
    "df[\"Time\"] = [times.replace(second = 0) for times in df[\"Time\"]]\n",
    "df[\"Time\"] = [times.replace(minute = 0) for times in df[\"Time\"]]"
   ]
  },
  {
   "cell_type": "code",
   "execution_count": 51,
   "metadata": {
    "collapsed": true
   },
   "outputs": [],
   "source": [
    "timegrp = df.groupby([\"Time\"])"
   ]
  },
  {
   "cell_type": "code",
   "execution_count": 52,
   "metadata": {
    "collapsed": false
   },
   "outputs": [
    {
     "data": {
      "text/plain": [
       "<matplotlib.text.Text at 0x7f8f0b1c9470>"
      ]
     },
     "execution_count": 52,
     "metadata": {},
     "output_type": "execute_result"
    },
    {
     "data": {
      "image/png": "[encoded data removed]",
      "text/plain": [
       "<matplotlib.figure.Figure at 0x7f8f065c29e8>"
      ]
     },
     "metadata": {},
     "output_type": "display_data"
    }
   ],
   "source": [
    "time_tip_plot = timegrp.sum()[\"Tip\"].plot(title = \"Sum of tips vs appx. delivery time\", ylim = (0, 55))\n",
    "time_tip_plot.set_ylabel(\"Sum of tips\")"
   ]
  },
  {
   "cell_type": "code",
   "execution_count": 53,
   "metadata": {
    "collapsed": false
   },
   "outputs": [
    {
     "data": {
      "text/plain": [
       "<matplotlib.text.Text at 0x7f8f06632dd8>"
      ]
     },
     "execution_count": 53,
     "metadata": {},
     "output_type": "execute_result"
    },
    {
     "data": {
      "image/png": "[encoded data removed]",
      "text/plain": [
       "<matplotlib.figure.Figure at 0x7f8f06476780>"
      ]
     },
     "metadata": {},
     "output_type": "display_data"
    }
   ],
   "source": [
    "time_tip_count_plot = (timegrp[\"Tip\"].count().plot(title = \"Total order count over time\"))\n",
    "time_tip_count_plot.set_ylabel(\"Order count\")"
   ]
  },
  {
   "cell_type": "code",
   "execution_count": 54,
   "metadata": {
    "collapsed": true
   },
   "outputs": [],
   "source": [
    "dategrp = df.groupby([\"Date\"])\n",
    "dgmean = dategrp.mean()"
   ]
  },
  {
   "cell_type": "code",
   "execution_count": 55,
   "metadata": {
    "collapsed": false
   },
   "outputs": [],
   "source": [
    "timeout = [dategrp[\"Time\"].max()[i].hour for i in range(len(dategrp[\"Time\"]))]\n",
    "timein = [dategrp[\"Time\"].min()[i].hour for i in range(len(dategrp[\"Time\"]))]\n",
    "hrs_worked = sum([(t_out - t_in) for t_out, t_in in zip(timeout, timein)])"
   ]
  },
  {
   "cell_type": "code",
   "execution_count": 56,
   "metadata": {
    "collapsed": true
   },
   "outputs": [],
   "source": [
    "commis_earn = df[\"Time\"].count() * 1\n",
    "tip_earn = timegrp[\"Tip\"].sum().sum()\n",
    "total_earn = hrs_worked * 6 + commis_earn + tip_earn"
   ]
  },
  {
   "cell_type": "code",
   "execution_count": 57,
   "metadata": {
    "collapsed": false
   },
   "outputs": [
    {
     "name": "stdout",
     "output_type": "stream",
     "text": [
      "316 appx. hours worked at $6 per hour\n",
      "689 deliveries at £1 per delivery\n",
      "£196.0 credit card tips\n",
      "£2781.0 total\n"
     ]
    }
   ],
   "source": [
    "print(\"{} appx. hours worked at $6 per hour\\n{} deliveries at £1 per delivery\\n£{} credit card tips\\n£{} total\".format(hrs_worked, commis_earn, tip_earn, total_earn))"
   ]
  },
  {
   "cell_type": "code",
   "execution_count": 58,
   "metadata": {
    "collapsed": false
   },
   "outputs": [],
   "source": [
    "#dgmean = fix_times(dgmean)"
   ]
  },
  {
   "cell_type": "code",
   "execution_count": 59,
   "metadata": {
    "collapsed": false
   },
   "outputs": [
    {
     "data": {
      "text/html": [
       "<div>\n",
       "<table border=\"1\" class=\"dataframe\">\n",
       "  <thead>\n",
       "    <tr style=\"text-align: right;\">\n",
       "      <th></th>\n",
       "      <th>Delivery Time (s)</th>\n",
       "      <th>Tip</th>\n",
       "    </tr>\n",
       "    <tr>\n",
       "      <th>Date</th>\n",
       "      <th></th>\n",
       "      <th></th>\n",
       "    </tr>\n",
       "  </thead>\n",
       "  <tbody>\n",
       "    <tr>\n",
       "      <th>2016-01-28</th>\n",
       "      <td>683.000000</td>\n",
       "      <td>0.166667</td>\n",
       "    </tr>\n",
       "    <tr>\n",
       "      <th>2016-01-29</th>\n",
       "      <td>784.428571</td>\n",
       "      <td>0.000000</td>\n",
       "    </tr>\n",
       "    <tr>\n",
       "      <th>2016-01-31</th>\n",
       "      <td>754.333333</td>\n",
       "      <td>0.222222</td>\n",
       "    </tr>\n",
       "    <tr>\n",
       "      <th>2016-02-05</th>\n",
       "      <td>750.333333</td>\n",
       "      <td>0.666667</td>\n",
       "    </tr>\n",
       "    <tr>\n",
       "      <th>2016-02-06</th>\n",
       "      <td>685.222222</td>\n",
       "      <td>0.888889</td>\n",
       "    </tr>\n",
       "    <tr>\n",
       "      <th>2016-02-07</th>\n",
       "      <td>863.272727</td>\n",
       "      <td>0.000000</td>\n",
       "    </tr>\n",
       "    <tr>\n",
       "      <th>2016-02-09</th>\n",
       "      <td>771.000000</td>\n",
       "      <td>0.571429</td>\n",
       "    </tr>\n",
       "    <tr>\n",
       "      <th>2016-02-10</th>\n",
       "      <td>778.166667</td>\n",
       "      <td>0.166667</td>\n",
       "    </tr>\n",
       "    <tr>\n",
       "      <th>2016-02-12</th>\n",
       "      <td>634.500000</td>\n",
       "      <td>0.000000</td>\n",
       "    </tr>\n",
       "    <tr>\n",
       "      <th>2016-02-13</th>\n",
       "      <td>623.714286</td>\n",
       "      <td>0.142857</td>\n",
       "    </tr>\n",
       "    <tr>\n",
       "      <th>2016-02-14</th>\n",
       "      <td>621.000000</td>\n",
       "      <td>0.400000</td>\n",
       "    </tr>\n",
       "    <tr>\n",
       "      <th>2016-02-15</th>\n",
       "      <td>862.750000</td>\n",
       "      <td>0.375000</td>\n",
       "    </tr>\n",
       "    <tr>\n",
       "      <th>2016-02-19</th>\n",
       "      <td>559.333333</td>\n",
       "      <td>0.333333</td>\n",
       "    </tr>\n",
       "    <tr>\n",
       "      <th>2016-02-21</th>\n",
       "      <td>752.000000</td>\n",
       "      <td>0.166667</td>\n",
       "    </tr>\n",
       "    <tr>\n",
       "      <th>2016-02-24</th>\n",
       "      <td>772.222222</td>\n",
       "      <td>0.222222</td>\n",
       "    </tr>\n",
       "    <tr>\n",
       "      <th>2016-02-26</th>\n",
       "      <td>770.500000</td>\n",
       "      <td>0.500000</td>\n",
       "    </tr>\n",
       "    <tr>\n",
       "      <th>2016-02-28</th>\n",
       "      <td>711.000000</td>\n",
       "      <td>0.000000</td>\n",
       "    </tr>\n",
       "    <tr>\n",
       "      <th>2016-03-02</th>\n",
       "      <td>603.125000</td>\n",
       "      <td>0.000000</td>\n",
       "    </tr>\n",
       "    <tr>\n",
       "      <th>2016-03-04</th>\n",
       "      <td>499.833333</td>\n",
       "      <td>0.000000</td>\n",
       "    </tr>\n",
       "    <tr>\n",
       "      <th>2016-03-06</th>\n",
       "      <td>559.625000</td>\n",
       "      <td>0.375000</td>\n",
       "    </tr>\n",
       "    <tr>\n",
       "      <th>2016-03-09</th>\n",
       "      <td>722.625000</td>\n",
       "      <td>0.125000</td>\n",
       "    </tr>\n",
       "    <tr>\n",
       "      <th>2016-03-11</th>\n",
       "      <td>678.500000</td>\n",
       "      <td>0.250000</td>\n",
       "    </tr>\n",
       "    <tr>\n",
       "      <th>2016-03-13</th>\n",
       "      <td>634.400000</td>\n",
       "      <td>1.000000</td>\n",
       "    </tr>\n",
       "    <tr>\n",
       "      <th>2016-03-16</th>\n",
       "      <td>565.000000</td>\n",
       "      <td>0.400000</td>\n",
       "    </tr>\n",
       "    <tr>\n",
       "      <th>2016-03-18</th>\n",
       "      <td>761.166667</td>\n",
       "      <td>0.333333</td>\n",
       "    </tr>\n",
       "    <tr>\n",
       "      <th>2016-03-20</th>\n",
       "      <td>674.166667</td>\n",
       "      <td>0.000000</td>\n",
       "    </tr>\n",
       "    <tr>\n",
       "      <th>2016-03-23</th>\n",
       "      <td>638.400000</td>\n",
       "      <td>0.000000</td>\n",
       "    </tr>\n",
       "    <tr>\n",
       "      <th>2016-03-25</th>\n",
       "      <td>708.250000</td>\n",
       "      <td>0.000000</td>\n",
       "    </tr>\n",
       "    <tr>\n",
       "      <th>2016-03-26</th>\n",
       "      <td>629.000000</td>\n",
       "      <td>0.000000</td>\n",
       "    </tr>\n",
       "    <tr>\n",
       "      <th>2016-04-02</th>\n",
       "      <td>678.222222</td>\n",
       "      <td>0.333333</td>\n",
       "    </tr>\n",
       "    <tr>\n",
       "      <th>...</th>\n",
       "      <td>...</td>\n",
       "      <td>...</td>\n",
       "    </tr>\n",
       "    <tr>\n",
       "      <th>2016-05-25</th>\n",
       "      <td>552.000000</td>\n",
       "      <td>0.000000</td>\n",
       "    </tr>\n",
       "    <tr>\n",
       "      <th>2016-05-27</th>\n",
       "      <td>601.111111</td>\n",
       "      <td>0.000000</td>\n",
       "    </tr>\n",
       "    <tr>\n",
       "      <th>2016-05-30</th>\n",
       "      <td>534.000000</td>\n",
       "      <td>0.250000</td>\n",
       "    </tr>\n",
       "    <tr>\n",
       "      <th>2016-06-01</th>\n",
       "      <td>525.818182</td>\n",
       "      <td>0.454545</td>\n",
       "    </tr>\n",
       "    <tr>\n",
       "      <th>2016-06-03</th>\n",
       "      <td>560.090909</td>\n",
       "      <td>0.272727</td>\n",
       "    </tr>\n",
       "    <tr>\n",
       "      <th>2016-06-06</th>\n",
       "      <td>533.125000</td>\n",
       "      <td>0.375000</td>\n",
       "    </tr>\n",
       "    <tr>\n",
       "      <th>2016-06-10</th>\n",
       "      <td>507.916667</td>\n",
       "      <td>0.333333</td>\n",
       "    </tr>\n",
       "    <tr>\n",
       "      <th>2016-06-15</th>\n",
       "      <td>650.714286</td>\n",
       "      <td>0.285714</td>\n",
       "    </tr>\n",
       "    <tr>\n",
       "      <th>2016-06-24</th>\n",
       "      <td>406.818182</td>\n",
       "      <td>0.272727</td>\n",
       "    </tr>\n",
       "    <tr>\n",
       "      <th>2016-06-27</th>\n",
       "      <td>536.200000</td>\n",
       "      <td>0.500000</td>\n",
       "    </tr>\n",
       "    <tr>\n",
       "      <th>2016-06-29</th>\n",
       "      <td>607.555556</td>\n",
       "      <td>0.333333</td>\n",
       "    </tr>\n",
       "    <tr>\n",
       "      <th>2016-07-06</th>\n",
       "      <td>562.285714</td>\n",
       "      <td>0.142857</td>\n",
       "    </tr>\n",
       "    <tr>\n",
       "      <th>2016-07-08</th>\n",
       "      <td>542.555556</td>\n",
       "      <td>0.000000</td>\n",
       "    </tr>\n",
       "    <tr>\n",
       "      <th>2016-07-11</th>\n",
       "      <td>552.125000</td>\n",
       "      <td>0.375000</td>\n",
       "    </tr>\n",
       "    <tr>\n",
       "      <th>2016-07-13</th>\n",
       "      <td>402.000000</td>\n",
       "      <td>0.000000</td>\n",
       "    </tr>\n",
       "    <tr>\n",
       "      <th>2016-07-15</th>\n",
       "      <td>500.555556</td>\n",
       "      <td>0.555556</td>\n",
       "    </tr>\n",
       "    <tr>\n",
       "      <th>2016-07-18</th>\n",
       "      <td>530.500000</td>\n",
       "      <td>0.000000</td>\n",
       "    </tr>\n",
       "    <tr>\n",
       "      <th>2016-07-20</th>\n",
       "      <td>475.625000</td>\n",
       "      <td>0.500000</td>\n",
       "    </tr>\n",
       "    <tr>\n",
       "      <th>2016-07-22</th>\n",
       "      <td>441.900000</td>\n",
       "      <td>0.400000</td>\n",
       "    </tr>\n",
       "    <tr>\n",
       "      <th>2016-07-23</th>\n",
       "      <td>484.272727</td>\n",
       "      <td>0.363636</td>\n",
       "    </tr>\n",
       "    <tr>\n",
       "      <th>2016-07-25</th>\n",
       "      <td>459.300000</td>\n",
       "      <td>0.500000</td>\n",
       "    </tr>\n",
       "    <tr>\n",
       "      <th>2016-07-27</th>\n",
       "      <td>517.500000</td>\n",
       "      <td>0.500000</td>\n",
       "    </tr>\n",
       "    <tr>\n",
       "      <th>2016-07-29</th>\n",
       "      <td>602.500000</td>\n",
       "      <td>0.600000</td>\n",
       "    </tr>\n",
       "    <tr>\n",
       "      <th>2016-08-01</th>\n",
       "      <td>472.375000</td>\n",
       "      <td>0.250000</td>\n",
       "    </tr>\n",
       "    <tr>\n",
       "      <th>2016-08-05</th>\n",
       "      <td>480.600000</td>\n",
       "      <td>0.300000</td>\n",
       "    </tr>\n",
       "    <tr>\n",
       "      <th>2016-08-08</th>\n",
       "      <td>542.866667</td>\n",
       "      <td>0.600000</td>\n",
       "    </tr>\n",
       "    <tr>\n",
       "      <th>2016-08-10</th>\n",
       "      <td>711.333333</td>\n",
       "      <td>0.666667</td>\n",
       "    </tr>\n",
       "    <tr>\n",
       "      <th>2016-08-12</th>\n",
       "      <td>603.615385</td>\n",
       "      <td>0.000000</td>\n",
       "    </tr>\n",
       "    <tr>\n",
       "      <th>2016-08-15</th>\n",
       "      <td>610.428571</td>\n",
       "      <td>0.000000</td>\n",
       "    </tr>\n",
       "    <tr>\n",
       "      <th>2016-08-19</th>\n",
       "      <td>578.909091</td>\n",
       "      <td>0.454545</td>\n",
       "    </tr>\n",
       "  </tbody>\n",
       "</table>\n",
       "<p>83 rows × 2 columns</p>\n",
       "</div>"
      ],
      "text/plain": [
       "            Delivery Time (s)       Tip\n",
       "Date                                   \n",
       "2016-01-28         683.000000  0.166667\n",
       "2016-01-29         784.428571  0.000000\n",
       "2016-01-31         754.333333  0.222222\n",
       "2016-02-05         750.333333  0.666667\n",
       "2016-02-06         685.222222  0.888889\n",
       "2016-02-07         863.272727  0.000000\n",
       "2016-02-09         771.000000  0.571429\n",
       "2016-02-10         778.166667  0.166667\n",
       "2016-02-12         634.500000  0.000000\n",
       "2016-02-13         623.714286  0.142857\n",
       "2016-02-14         621.000000  0.400000\n",
       "2016-02-15         862.750000  0.375000\n",
       "2016-02-19         559.333333  0.333333\n",
       "2016-02-21         752.000000  0.166667\n",
       "2016-02-24         772.222222  0.222222\n",
       "2016-02-26         770.500000  0.500000\n",
       "2016-02-28         711.000000  0.000000\n",
       "2016-03-02         603.125000  0.000000\n",
       "2016-03-04         499.833333  0.000000\n",
       "2016-03-06         559.625000  0.375000\n",
       "2016-03-09         722.625000  0.125000\n",
       "2016-03-11         678.500000  0.250000\n",
       "2016-03-13         634.400000  1.000000\n",
       "2016-03-16         565.000000  0.400000\n",
       "2016-03-18         761.166667  0.333333\n",
       "2016-03-20         674.166667  0.000000\n",
       "2016-03-23         638.400000  0.000000\n",
       "2016-03-25         708.250000  0.000000\n",
       "2016-03-26         629.000000  0.000000\n",
       "2016-04-02         678.222222  0.333333\n",
       "...                       ...       ...\n",
       "2016-05-25         552.000000  0.000000\n",
       "2016-05-27         601.111111  0.000000\n",
       "2016-05-30         534.000000  0.250000\n",
       "2016-06-01         525.818182  0.454545\n",
       "2016-06-03         560.090909  0.272727\n",
       "2016-06-06         533.125000  0.375000\n",
       "2016-06-10         507.916667  0.333333\n",
       "2016-06-15         650.714286  0.285714\n",
       "2016-06-24         406.818182  0.272727\n",
       "2016-06-27         536.200000  0.500000\n",
       "2016-06-29         607.555556  0.333333\n",
       "2016-07-06         562.285714  0.142857\n",
       "2016-07-08         542.555556  0.000000\n",
       "2016-07-11         552.125000  0.375000\n",
       "2016-07-13         402.000000  0.000000\n",
       "2016-07-15         500.555556  0.555556\n",
       "2016-07-18         530.500000  0.000000\n",
       "2016-07-20         475.625000  0.500000\n",
       "2016-07-22         441.900000  0.400000\n",
       "2016-07-23         484.272727  0.363636\n",
       "2016-07-25         459.300000  0.500000\n",
       "2016-07-27         517.500000  0.500000\n",
       "2016-07-29         602.500000  0.600000\n",
       "2016-08-01         472.375000  0.250000\n",
       "2016-08-05         480.600000  0.300000\n",
       "2016-08-08         542.866667  0.600000\n",
       "2016-08-10         711.333333  0.666667\n",
       "2016-08-12         603.615385  0.000000\n",
       "2016-08-15         610.428571  0.000000\n",
       "2016-08-19         578.909091  0.454545\n",
       "\n",
       "[83 rows x 2 columns]"
      ]
     },
     "execution_count": 59,
     "metadata": {},
     "output_type": "execute_result"
    }
   ],
   "source": [
    "dgmean"
   ]
  },
  {
   "cell_type": "code",
   "execution_count": 61,
   "metadata": {
    "collapsed": false
   },
   "outputs": [],
   "source": [
    "dtimems = []\n",
    "for elem in dgmean[\"Delivery Time (s)\"]:\n",
    "    m, s = divmod(elem, 60)\n",
    "    dtimems.append(m + (round(s, -2) / 100))\n",
    "\n",
    "dgmean[\"Delivery Time (s)\"] = dtimems"
   ]
  },
  {
   "cell_type": "code",
   "execution_count": 62,
   "metadata": {
    "collapsed": false
   },
   "outputs": [
    {
     "data": {
      "text/plain": [
       "<matplotlib.text.Text at 0x7f8f063a56a0>"
      ]
     },
     "execution_count": 62,
     "metadata": {},
     "output_type": "execute_result"
    },
    {
     "data": {
      "image/png": "[encoded data removed]",
      "text/plain": [
       "<matplotlib.figure.Figure at 0x7f8f0849a048>"
      ]
     },
     "metadata": {},
     "output_type": "display_data"
    }
   ],
   "source": [
    "month_dtime_plot = dgmean[\"Delivery Time (s)\"].plot(title = \"Average delivery time since start\", ylim = (0, 16))\n",
    "month_dtime_plot.set_ylabel(\"Avg. delivery time\")"
   ]
  },
  {
   "cell_type": "code",
   "execution_count": 66,
   "metadata": {
    "collapsed": false
   },
   "outputs": [
    {
     "name": "stderr",
     "output_type": "stream",
     "text": [
      "/home/ruski/anaconda3/lib/python3.5/site-packages/statsmodels/nonparametric/kdetools.py:20: VisibleDeprecationWarning: using a non-integer number instead of an integer will result in an error in the future\n",
      "  y = X[:m/2+1] + np.r_[0,X[m/2+1:],0]*1j\n"
     ]
    },
    {
     "data": {
      "text/plain": [
       "<seaborn.axisgrid.JointGrid at 0x7f8f0addf668>"
      ]
     },
     "execution_count": 66,
     "metadata": {},
     "output_type": "execute_result"
    },
    {
     "data": {
      "image/png": "[encoded data removed]",
      "text/plain": [
       "<matplotlib.figure.Figure at 0x7f8f0addf550>"
      ]
     },
     "metadata": {},
     "output_type": "display_data"
    }
   ],
   "source": [
    "dgsum = dategrp.sum()\n",
    "sns.jointplot(x = dgsum[\"Delivery Time (s)\"], y = dgsum[\"Tip\"], kind = \"kde\")"
   ]
  },
  {
   "cell_type": "code",
   "execution_count": 64,
   "metadata": {
    "collapsed": false
   },
   "outputs": [
    {
     "data": {
      "text/plain": [
       "<matplotlib.text.Text at 0x7f8f06226518>"
      ]
     },
     "execution_count": 64,
     "metadata": {},
     "output_type": "execute_result"
    },
    {
     "data": {
      "image/png": "[encoded data removed]",
      "text/plain": [
       "<matplotlib.figure.Figure at 0x7f8f0640fd30>"
      ]
     },
     "metadata": {},
     "output_type": "display_data"
    }
   ],
   "source": [
    "del_time_freq_plot = dgmean[\"Delivery Time (s)\"].plot(title = \"Frequency of occurences of approximate delivery time\", kind = 'hist')\n",
    "del_time_freq_plot.set_ylabel(\"Frequency of occurences\")\n",
    "del_time_freq_plot.set_xlabel(\"Approximate delivery time\")"
   ]
  },
  {
   "cell_type": "code",
   "execution_count": 65,
   "metadata": {
    "collapsed": false
   },
   "outputs": [
    {
     "data": {
      "text/plain": [
       "array([0, 1])"
      ]
     },
     "execution_count": 65,
     "metadata": {},
     "output_type": "execute_result"
    }
   ],
   "source": [
    "from sklearn import tree\n",
    "\n",
    "data = [df[\"Tip\"], df[\"Delivery Time (s)\"]]\n",
    "target = range(2)\n",
    "clf = tree.DecisionTreeClassifier()\n",
    "clf = clf.fit(data, target)\n",
    "\n",
    "clf.predict(data)"
   ]
  }
 ],
 "metadata": {
  "anaconda-cloud": {},
  "kernelspec": {
   "display_name": "Python [Root]",
   "language": "python",
   "name": "Python [Root]"
  },
  "language_info": {
   "codemirror_mode": {
    "name": "ipython",
    "version": 3
   },
   "file_extension": ".py",
   "mimetype": "text/x-python",
   "name": "python",
   "nbconvert_exporter": "python",
   "pygments_lexer": "ipython3",
   "version": "3.5.2"
  }
 },
 "nbformat": 4,
 "nbformat_minor": 0
}
